{
 "cells": [
  {
   "cell_type": "markdown",
   "id": "067b46ea-f7a4-4fad-98a6-90a43226a5a3",
   "metadata": {},
   "source": [
    "# Where to go from here"
   ]
  },
  {
   "cell_type": "markdown",
   "id": "2aed182a-b76c-4948-aacc-f4d3b94bc1bf",
   "metadata": {},
   "source": [
    "## Immediate steps"
   ]
  },
  {
   "cell_type": "markdown",
   "id": "2a852a93-680c-44ee-b1a5-3907a401818e",
   "metadata": {},
   "source": [
    "Using what you learned so far, you can directly do the following, maybe even on the basis of the code provided here:\n",
    "\n",
    "* speed up simulations (map initial conditions to result,   map geometrical design to resulting properties, …)\n",
    "\n",
    "* interpret noisy measurement traces\n",
    "\n",
    "* recognize experimental images\n",
    "\n",
    "* learn resolution enhancement of images"
   ]
  },
  {
   "cell_type": "markdown",
   "id": "e9bdcf9f-edca-4a97-8199-797fa9b82ee3",
   "metadata": {},
   "source": [
    "```{admonition} Brainstorming\n",
    "\n",
    "Think about what would be the simplest task in your own research that you could tackle using machine learning with neural networks! Good options are soften peeding up some simulation, solving an inverse problem, or analysing noisy measurement data. Think carefully about what exactly would be the input and the desired output and how you would get the training data.\n",
    "```"
   ]
  },
  {
   "cell_type": "markdown",
   "id": "3082bc64-b780-4a4a-bd6a-b48226a2364a",
   "metadata": {},
   "source": [
    "## Advanced topics"
   ]
  },
  {
   "cell_type": "markdown",
   "id": "33b406ca-0f03-4859-abd0-fe8eb75c9840",
   "metadata": {},
   "source": [
    "I just mention a few keywords so you can look them up and learn about them. These lead to the forefront of current machine learning research."
   ]
  },
  {
   "cell_type": "markdown",
   "id": "709f4004-e1ed-4f14-a7b1-a94b6e9fb9c4",
   "metadata": {},
   "source": [
    "* use \"residual networks\" and \"U-Nets\" for advanced image processing\n",
    "\n",
    "* use \"recurrent networks\" to analyze time series ",
    " ",
    "– use \"graph neural networks\" for input like molecular structures ",
    "   and other data of variable size\n",
    "\n",
    "* use \"reinforcement learning\" to discover control strategies\n",
    "\n",
    "* use \"normalizing flows\" or \"diffusion models\" to generate ",
    "   new data similar to existing data ",
    " ",
    "– use \"transformers\" to analyze and produce sequences with long ",
    "   dependencies\n"
   ]
  },
  {
   "cell_type": "markdown",
   "id": "ba9ce7ea-31c7-48f0-9bdf-c37742ff05cb",
   "metadata": {},
   "source": [
    "## Two useful lecture series"
   ]
  },
  {
   "cell_type": "markdown",
   "id": "fe498ee9-ca4f-4ecd-849d-614b868b96b3",
   "metadata": {},
   "source": [
    "Over the years I have developed two courses dealing with machine learning for an audience of physicists. They go into much more detail than these three lessons.\n",
    "\n",
    "* The basics: \"Machine Learning for Physicists\", first delivered in 2017. A hands-on introduction. See the [machine learning lecture wiki 2024](https://pad.gwdg.de/pAtNnR29QAuaraca8oqZMQ#) for the latest incarnation, using jax, and [video recordings of the 2024 lectures](https://www.fau.tv/course/id/3908), or also the older 2019 [video recordings on YouTube](https://www.youtube.com/playlist?list=PLemsnf33Vij4eFWwtoQCrt9AHjLe3uo9_).\n",
    "\n",
    "* Advanced topics: \"Advanced Machine Learning for Physics, Science, and Artificial Scientific Discovery\" in 2021/22. See the [advanced machine learning lecture wiki](https://pad.gwdg.de/2021_AdvancedMachineLearningForScience#) and the [advanced machine learning video recordings on YouTube](https://www.youtube.com/playlist?list=PLemsnf33Vij4-kv-JTjDthaGUYUnQbbws). This contains advanced concepts like transformers and also a lot of the statistical and information-theoretic concepts needed to understand machine learning methods."
   ]
  },
  {
   "cell_type": "markdown",
   "id": "70fd5380-b5e2-4a96-98e4-ab460fd1c9e3",
   "metadata": {},
   "source": [
    "```{admonition} Outlook\n",
    "Have fun and start applying what you learned here! Maybe in the end you can also contribute to some of the long-term visions we like to think about in my group, like building an 'artificial scientist' that comes up with new hypotheses and is able to independently understand the world.\n",
    "```"
   ]
  }
 ],
 "metadata": {
  "kernelspec": {
   "display_name": "Python 3 (ipykernel)",
   "language": "python",
   "name": "python3"
  },
  "language_info": {
   "codemirror_mode": {
    "name": "ipython",
    "version": 3
   },
   "file_extension": ".py",
   "mimetype": "text/x-python",
   "name": "python",
   "nbconvert_exporter": "python",
   "pygments_lexer": "ipython3",
   "version": "3.9.6"
  }
 },
 "nbformat": 4,
 "nbformat_minor": 5
}
