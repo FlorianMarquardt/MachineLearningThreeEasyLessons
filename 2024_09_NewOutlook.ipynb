{
 "cells": [
  {
   "cell_type": "markdown",
   "id": "e9d481fb-8944-469b-898d-70a38da99c1d",
   "metadata": {},
   "source": [
    "# Where to go from here"
   ]
  },
  {
   "cell_type": "markdown",
   "id": "69081ff5-40cf-4e35-ad2f-781b203111a1",
   "metadata": {},
   "source": [
    "Now that you have taken the very first steps, what is next?"
   ]
  },
  {
   "cell_type": "markdown",
   "id": "aa2bb9d5-95ff-43a9-953d-69c0bd92fe3c",
   "metadata": {},
   "source": [
    "## Immediate steps"
   ]
  },
  {
   "cell_type": "markdown",
   "id": "e5f163d9-2707-490c-b1e3-20519c26cf4f",
   "metadata": {},
   "source": [
    "Using what you learned so far, you can directly do the following, maybe even on the basis of the code provided here:\n",
    "\n",
    "* speed up simulations (map initial conditions to result,   map geometrical design to resulting properties, …)\n",
    "\n",
    "* interpret noisy measurement traces\n",
    "\n",
    "* recognize experimental images\n",
    "\n",
    "* learn resolution enhancement of images"
   ]
  },
  {
   "cell_type": "markdown",
   "id": "900ddab7-fbcd-42a9-b1f4-722ef1691203",
   "metadata": {},
   "source": [
    "```{admonition} Brainstorming\n",
    "\n",
    "Think about what would be the simplest task in your own research that you could tackle using machine learning with neural networks! Good options are soften peeding up some simulation, solving an inverse problem, or analysing noisy measurement data. Think carefully about what exactly would be the input and the desired output and how you would get the training data.\n",
    "```"
   ]
  },
  {
   "cell_type": "markdown",
   "id": "f4830f9a-8af2-44a1-9ce4-cc178f39068c",
   "metadata": {},
   "source": [
    "## Advanced topics"
   ]
  },
  {
   "cell_type": "markdown",
   "id": "4040cd1b-8c9a-4df7-9109-3fabd0e45b19",
   "metadata": {},
   "source": [
    "I just mention a few keywords so you can look them up and learn about them. These lead to the forefront of current machine learning research."
   ]
  },
  {
   "cell_type": "markdown",
   "id": "701da719-99cb-45b4-a913-702dfb2f0cbf",
   "metadata": {},
   "source": [
    "* use \"residual networks\" and \"U-Nets\" for advanced image processing\n",
    "\n",
    "* use \"recurrent networks\" to analyze time series ",
    " ",
    "– use \"graph neural networks\" for input like molecular structures ",
    "   and other data of variable size\n",
    "\n",
    "* use \"reinforcement learning\" to discover control strategies\n",
    "\n",
    "* use \"normalizing flows\" or \"diffusion models\" to generate ",
    "   new data similar to existing data ",
    " ",
    "– use \"transformers\" to analyze and produce sequences with long ",
    "   dependencies\n"
   ]
  },
  {
   "cell_type": "markdown",
   "id": "ed356f4c-c943-4655-9722-edf5a788ba7a",
   "metadata": {},
   "source": [
    "## Two useful lecture series"
   ]
  },
  {
   "cell_type": "markdown",
   "id": "f4aecd28-4977-43d0-b780-805513a76f8a",
   "metadata": {},
   "source": [
    "Over the years I have developed two courses dealing with machine learning for an audience of physicists. They go into much more detail than these three lessons.\n",
    "\n",
    "* The basics: \"Machine Learning for Physicists\", first delivered in 2017. A hands-on introduction. See the [machine learning lecture wiki 2024](https://pad.gwdg.de/pAtNnR29QAuaraca8oqZMQ#) for the latest incarnation, using jax, and [video recordings of the 2024 lectures](https://www.fau.tv/course/id/3908), or also the older 2019 [video recordings on YouTube](https://www.youtube.com/playlist?list=PLemsnf33Vij4eFWwtoQCrt9AHjLe3uo9_).\n",
    "\n",
    "* Advanced topics: \"Advanced Machine Learning for Physics, Science, and Artificial Scientific Discovery\" in 2021/22. See the [advanced machine learning lecture wiki](https://pad.gwdg.de/2021_AdvancedMachineLearningForScience#) and the [advanced machine learning video recordings on YouTube](https://www.youtube.com/playlist?list=PLemsnf33Vij4-kv-JTjDthaGUYUnQbbws). This contains advanced concepts like transformers and also a lot of the statistical and information-theoretic concepts needed to understand machine learning methods."
   ]
  },
  {
   "cell_type": "markdown",
   "id": "07c855ed-d28c-4051-9b8d-38f03521de89",
   "metadata": {},
   "source": [
    "```{admonition} Outlook\n",
    "Have fun and start applying what you learned here! Maybe in the end you can also contribute to some of the long-term visions we like to think about in my group, like building an 'artificial scientist' that comes up with new hypotheses and is able to independently understand the world.\n",
    "```"
   ]
  }
 ],
 "metadata": {
  "kernelspec": {
   "display_name": "Python 3 (ipykernel)",
   "language": "python",
   "name": "python3"
  },
  "language_info": {
   "codemirror_mode": {
    "name": "ipython",
    "version": 3
   },
   "file_extension": ".py",
   "mimetype": "text/x-python",
   "name": "python",
   "nbconvert_exporter": "python",
   "pygments_lexer": "ipython3",
   "version": "3.9.6"
  }
 },
 "nbformat": 4,
 "nbformat_minor": 5
}
